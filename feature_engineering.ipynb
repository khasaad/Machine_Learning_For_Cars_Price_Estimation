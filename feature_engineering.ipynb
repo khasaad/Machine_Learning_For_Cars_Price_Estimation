{
 "cells": [
  {
   "cell_type": "code",
   "execution_count": 1,
   "metadata": {
    "collapsed": true
   },
   "outputs": [],
   "source": [
    "import pandas as pd\n",
    "import numpy as np"
   ]
  },
  {
   "cell_type": "code",
   "execution_count": 2,
   "outputs": [],
   "source": [
    "import warnings\n",
    "\n",
    "warnings.filterwarnings('ignore')\n"
   ],
   "metadata": {
    "collapsed": false,
    "pycharm": {
     "name": "#%%\n"
    }
   }
  },
  {
   "cell_type": "code",
   "execution_count": 3,
   "outputs": [],
   "source": [
    "df_new = pd.read_csv('fullspecs.csv', low_memory=False, index_col=0, header=None).T"
   ],
   "metadata": {
    "collapsed": false,
    "pycharm": {
     "name": "#%%\n"
    }
   }
  },
  {
   "cell_type": "code",
   "execution_count": 4,
   "outputs": [],
   "source": [
    "# # df = df_new\n",
    "df = df_new.copy()"
   ],
   "metadata": {
    "collapsed": false,
    "pycharm": {
     "name": "#%%\n"
    }
   }
  },
  {
   "cell_type": "code",
   "execution_count": 5,
   "outputs": [
    {
     "data": {
      "text/plain": "0                                         NaN     MSRP  \\\n1  2019 Acura RDX Specs: FWD w/Technology Pkg  $40,600   \n2     2019 Acura RDX Specs: FWD w/Advance Pkg  $45,500   \n3      2019 Acura RDX Specs: FWD w/A-Spec Pkg  $43,600   \n4                   2019 Acura RDX Specs: FWD  $37,400   \n\n0             Gas Mileage                             Engine  \\\n1  22 mpg City/28 mpg Hwy  Turbo Premium Unleaded I-4, 2.0 L   \n2  22 mpg City/28 mpg Hwy  Turbo Premium Unleaded I-4, 2.0 L   \n3  22 mpg City/27 mpg Hwy  Turbo Premium Unleaded I-4, 2.0 L   \n4  22 mpg City/28 mpg Hwy  Turbo Premium Unleaded I-4, 2.0 L   \n\n0                         EPA Class            Style Name         Drivetrain  \\\n1  Small Sport Utility Vehicles 2WD  FWD w/Technology Pkg  Front Wheel Drive   \n2  Small Sport Utility Vehicles 2WD     FWD w/Advance Pkg  Front Wheel Drive   \n3  Small Sport Utility Vehicles 2WD      FWD w/A-Spec Pkg  Front Wheel Drive   \n4  Small Sport Utility Vehicles 2WD                   FWD  Front Wheel Drive   \n\n0 Passenger Capacity Passenger Doors     Body Style  ... Fourth Hip Room (in)  \\\n1                  5               4  Sport Utility  ...                  NaN   \n2                  5               4  Sport Utility  ...                  NaN   \n3                  5               4  Sport Utility  ...                  NaN   \n4                  5               4  Sport Utility  ...                  NaN   \n\n0 Fourth Leg Room (in) Fourth Shoulder Room (in) Fourth Head Room (in)  \\\n1                  NaN                       NaN                   NaN   \n2                  NaN                       NaN                   NaN   \n3                  NaN                       NaN                   NaN   \n4                  NaN                       NaN                   NaN   \n\n0 Fifth Shoulder Room (in) Fifth Head Room (in) Fifth Hip Room (in)  \\\n1                      NaN                  NaN                 NaN   \n2                      NaN                  NaN                 NaN   \n3                      NaN                  NaN                 NaN   \n4                      NaN                  NaN                 NaN   \n\n0 Fifth Leg Room (in) Corrosion Note Hybrid/Electric Components Note  \n1                 NaN            NaN                             NaN  \n2                 NaN            NaN                             NaN  \n3                 NaN            NaN                             NaN  \n4                 NaN            NaN                             NaN  \n\n[4 rows x 235 columns]",
      "text/html": "<div>\n<style scoped>\n    .dataframe tbody tr th:only-of-type {\n        vertical-align: middle;\n    }\n\n    .dataframe tbody tr th {\n        vertical-align: top;\n    }\n\n    .dataframe thead th {\n        text-align: right;\n    }\n</style>\n<table border=\"1\" class=\"dataframe\">\n  <thead>\n    <tr style=\"text-align: right;\">\n      <th></th>\n      <th>NaN</th>\n      <th>MSRP</th>\n      <th>Gas Mileage</th>\n      <th>Engine</th>\n      <th>EPA Class</th>\n      <th>Style Name</th>\n      <th>Drivetrain</th>\n      <th>Passenger Capacity</th>\n      <th>Passenger Doors</th>\n      <th>Body Style</th>\n      <th>...</th>\n      <th>Fourth Hip Room (in)</th>\n      <th>Fourth Leg Room (in)</th>\n      <th>Fourth Shoulder Room (in)</th>\n      <th>Fourth Head Room (in)</th>\n      <th>Fifth Shoulder Room (in)</th>\n      <th>Fifth Head Room (in)</th>\n      <th>Fifth Hip Room (in)</th>\n      <th>Fifth Leg Room (in)</th>\n      <th>Corrosion Note</th>\n      <th>Hybrid/Electric Components Note</th>\n    </tr>\n  </thead>\n  <tbody>\n    <tr>\n      <th>1</th>\n      <td>2019 Acura RDX Specs: FWD w/Technology Pkg</td>\n      <td>$40,600</td>\n      <td>22 mpg City/28 mpg Hwy</td>\n      <td>Turbo Premium Unleaded I-4, 2.0 L</td>\n      <td>Small Sport Utility Vehicles 2WD</td>\n      <td>FWD w/Technology Pkg</td>\n      <td>Front Wheel Drive</td>\n      <td>5</td>\n      <td>4</td>\n      <td>Sport Utility</td>\n      <td>...</td>\n      <td>NaN</td>\n      <td>NaN</td>\n      <td>NaN</td>\n      <td>NaN</td>\n      <td>NaN</td>\n      <td>NaN</td>\n      <td>NaN</td>\n      <td>NaN</td>\n      <td>NaN</td>\n      <td>NaN</td>\n    </tr>\n    <tr>\n      <th>2</th>\n      <td>2019 Acura RDX Specs: FWD w/Advance Pkg</td>\n      <td>$45,500</td>\n      <td>22 mpg City/28 mpg Hwy</td>\n      <td>Turbo Premium Unleaded I-4, 2.0 L</td>\n      <td>Small Sport Utility Vehicles 2WD</td>\n      <td>FWD w/Advance Pkg</td>\n      <td>Front Wheel Drive</td>\n      <td>5</td>\n      <td>4</td>\n      <td>Sport Utility</td>\n      <td>...</td>\n      <td>NaN</td>\n      <td>NaN</td>\n      <td>NaN</td>\n      <td>NaN</td>\n      <td>NaN</td>\n      <td>NaN</td>\n      <td>NaN</td>\n      <td>NaN</td>\n      <td>NaN</td>\n      <td>NaN</td>\n    </tr>\n    <tr>\n      <th>3</th>\n      <td>2019 Acura RDX Specs: FWD w/A-Spec Pkg</td>\n      <td>$43,600</td>\n      <td>22 mpg City/27 mpg Hwy</td>\n      <td>Turbo Premium Unleaded I-4, 2.0 L</td>\n      <td>Small Sport Utility Vehicles 2WD</td>\n      <td>FWD w/A-Spec Pkg</td>\n      <td>Front Wheel Drive</td>\n      <td>5</td>\n      <td>4</td>\n      <td>Sport Utility</td>\n      <td>...</td>\n      <td>NaN</td>\n      <td>NaN</td>\n      <td>NaN</td>\n      <td>NaN</td>\n      <td>NaN</td>\n      <td>NaN</td>\n      <td>NaN</td>\n      <td>NaN</td>\n      <td>NaN</td>\n      <td>NaN</td>\n    </tr>\n    <tr>\n      <th>4</th>\n      <td>2019 Acura RDX Specs: FWD</td>\n      <td>$37,400</td>\n      <td>22 mpg City/28 mpg Hwy</td>\n      <td>Turbo Premium Unleaded I-4, 2.0 L</td>\n      <td>Small Sport Utility Vehicles 2WD</td>\n      <td>FWD</td>\n      <td>Front Wheel Drive</td>\n      <td>5</td>\n      <td>4</td>\n      <td>Sport Utility</td>\n      <td>...</td>\n      <td>NaN</td>\n      <td>NaN</td>\n      <td>NaN</td>\n      <td>NaN</td>\n      <td>NaN</td>\n      <td>NaN</td>\n      <td>NaN</td>\n      <td>NaN</td>\n      <td>NaN</td>\n      <td>NaN</td>\n    </tr>\n  </tbody>\n</table>\n<p>4 rows × 235 columns</p>\n</div>"
     },
     "execution_count": 5,
     "metadata": {},
     "output_type": "execute_result"
    }
   ],
   "source": [
    "df.head(4)"
   ],
   "metadata": {
    "collapsed": false,
    "pycharm": {
     "name": "#%%\n"
    }
   }
  },
  {
   "cell_type": "code",
   "execution_count": 6,
   "outputs": [],
   "source": [
    "df.rename(columns={np.nan: \"model\", \"MSRP\":\"Price\"}, inplace=True)"
   ],
   "metadata": {
    "collapsed": false,
    "pycharm": {
     "name": "#%%\n"
    }
   }
  },
  {
   "cell_type": "code",
   "execution_count": 7,
   "outputs": [
    {
     "data": {
      "text/plain": "0                                       model    Price  \\\n1  2019 Acura RDX Specs: FWD w/Technology Pkg  $40,600   \n2     2019 Acura RDX Specs: FWD w/Advance Pkg  $45,500   \n3      2019 Acura RDX Specs: FWD w/A-Spec Pkg  $43,600   \n4                   2019 Acura RDX Specs: FWD  $37,400   \n\n0             Gas Mileage                             Engine  \\\n1  22 mpg City/28 mpg Hwy  Turbo Premium Unleaded I-4, 2.0 L   \n2  22 mpg City/28 mpg Hwy  Turbo Premium Unleaded I-4, 2.0 L   \n3  22 mpg City/27 mpg Hwy  Turbo Premium Unleaded I-4, 2.0 L   \n4  22 mpg City/28 mpg Hwy  Turbo Premium Unleaded I-4, 2.0 L   \n\n0                         EPA Class            Style Name         Drivetrain  \\\n1  Small Sport Utility Vehicles 2WD  FWD w/Technology Pkg  Front Wheel Drive   \n2  Small Sport Utility Vehicles 2WD     FWD w/Advance Pkg  Front Wheel Drive   \n3  Small Sport Utility Vehicles 2WD      FWD w/A-Spec Pkg  Front Wheel Drive   \n4  Small Sport Utility Vehicles 2WD                   FWD  Front Wheel Drive   \n\n0 Passenger Capacity Passenger Doors     Body Style  ... Fourth Hip Room (in)  \\\n1                  5               4  Sport Utility  ...                  NaN   \n2                  5               4  Sport Utility  ...                  NaN   \n3                  5               4  Sport Utility  ...                  NaN   \n4                  5               4  Sport Utility  ...                  NaN   \n\n0 Fourth Leg Room (in) Fourth Shoulder Room (in) Fourth Head Room (in)  \\\n1                  NaN                       NaN                   NaN   \n2                  NaN                       NaN                   NaN   \n3                  NaN                       NaN                   NaN   \n4                  NaN                       NaN                   NaN   \n\n0 Fifth Shoulder Room (in) Fifth Head Room (in) Fifth Hip Room (in)  \\\n1                      NaN                  NaN                 NaN   \n2                      NaN                  NaN                 NaN   \n3                      NaN                  NaN                 NaN   \n4                      NaN                  NaN                 NaN   \n\n0 Fifth Leg Room (in) Corrosion Note Hybrid/Electric Components Note  \n1                 NaN            NaN                             NaN  \n2                 NaN            NaN                             NaN  \n3                 NaN            NaN                             NaN  \n4                 NaN            NaN                             NaN  \n\n[4 rows x 235 columns]",
      "text/html": "<div>\n<style scoped>\n    .dataframe tbody tr th:only-of-type {\n        vertical-align: middle;\n    }\n\n    .dataframe tbody tr th {\n        vertical-align: top;\n    }\n\n    .dataframe thead th {\n        text-align: right;\n    }\n</style>\n<table border=\"1\" class=\"dataframe\">\n  <thead>\n    <tr style=\"text-align: right;\">\n      <th></th>\n      <th>model</th>\n      <th>Price</th>\n      <th>Gas Mileage</th>\n      <th>Engine</th>\n      <th>EPA Class</th>\n      <th>Style Name</th>\n      <th>Drivetrain</th>\n      <th>Passenger Capacity</th>\n      <th>Passenger Doors</th>\n      <th>Body Style</th>\n      <th>...</th>\n      <th>Fourth Hip Room (in)</th>\n      <th>Fourth Leg Room (in)</th>\n      <th>Fourth Shoulder Room (in)</th>\n      <th>Fourth Head Room (in)</th>\n      <th>Fifth Shoulder Room (in)</th>\n      <th>Fifth Head Room (in)</th>\n      <th>Fifth Hip Room (in)</th>\n      <th>Fifth Leg Room (in)</th>\n      <th>Corrosion Note</th>\n      <th>Hybrid/Electric Components Note</th>\n    </tr>\n  </thead>\n  <tbody>\n    <tr>\n      <th>1</th>\n      <td>2019 Acura RDX Specs: FWD w/Technology Pkg</td>\n      <td>$40,600</td>\n      <td>22 mpg City/28 mpg Hwy</td>\n      <td>Turbo Premium Unleaded I-4, 2.0 L</td>\n      <td>Small Sport Utility Vehicles 2WD</td>\n      <td>FWD w/Technology Pkg</td>\n      <td>Front Wheel Drive</td>\n      <td>5</td>\n      <td>4</td>\n      <td>Sport Utility</td>\n      <td>...</td>\n      <td>NaN</td>\n      <td>NaN</td>\n      <td>NaN</td>\n      <td>NaN</td>\n      <td>NaN</td>\n      <td>NaN</td>\n      <td>NaN</td>\n      <td>NaN</td>\n      <td>NaN</td>\n      <td>NaN</td>\n    </tr>\n    <tr>\n      <th>2</th>\n      <td>2019 Acura RDX Specs: FWD w/Advance Pkg</td>\n      <td>$45,500</td>\n      <td>22 mpg City/28 mpg Hwy</td>\n      <td>Turbo Premium Unleaded I-4, 2.0 L</td>\n      <td>Small Sport Utility Vehicles 2WD</td>\n      <td>FWD w/Advance Pkg</td>\n      <td>Front Wheel Drive</td>\n      <td>5</td>\n      <td>4</td>\n      <td>Sport Utility</td>\n      <td>...</td>\n      <td>NaN</td>\n      <td>NaN</td>\n      <td>NaN</td>\n      <td>NaN</td>\n      <td>NaN</td>\n      <td>NaN</td>\n      <td>NaN</td>\n      <td>NaN</td>\n      <td>NaN</td>\n      <td>NaN</td>\n    </tr>\n    <tr>\n      <th>3</th>\n      <td>2019 Acura RDX Specs: FWD w/A-Spec Pkg</td>\n      <td>$43,600</td>\n      <td>22 mpg City/27 mpg Hwy</td>\n      <td>Turbo Premium Unleaded I-4, 2.0 L</td>\n      <td>Small Sport Utility Vehicles 2WD</td>\n      <td>FWD w/A-Spec Pkg</td>\n      <td>Front Wheel Drive</td>\n      <td>5</td>\n      <td>4</td>\n      <td>Sport Utility</td>\n      <td>...</td>\n      <td>NaN</td>\n      <td>NaN</td>\n      <td>NaN</td>\n      <td>NaN</td>\n      <td>NaN</td>\n      <td>NaN</td>\n      <td>NaN</td>\n      <td>NaN</td>\n      <td>NaN</td>\n      <td>NaN</td>\n    </tr>\n    <tr>\n      <th>4</th>\n      <td>2019 Acura RDX Specs: FWD</td>\n      <td>$37,400</td>\n      <td>22 mpg City/28 mpg Hwy</td>\n      <td>Turbo Premium Unleaded I-4, 2.0 L</td>\n      <td>Small Sport Utility Vehicles 2WD</td>\n      <td>FWD</td>\n      <td>Front Wheel Drive</td>\n      <td>5</td>\n      <td>4</td>\n      <td>Sport Utility</td>\n      <td>...</td>\n      <td>NaN</td>\n      <td>NaN</td>\n      <td>NaN</td>\n      <td>NaN</td>\n      <td>NaN</td>\n      <td>NaN</td>\n      <td>NaN</td>\n      <td>NaN</td>\n      <td>NaN</td>\n      <td>NaN</td>\n    </tr>\n  </tbody>\n</table>\n<p>4 rows × 235 columns</p>\n</div>"
     },
     "execution_count": 7,
     "metadata": {},
     "output_type": "execute_result"
    }
   ],
   "source": [
    "df.head(4)"
   ],
   "metadata": {
    "collapsed": false,
    "pycharm": {
     "name": "#%%\n"
    }
   }
  },
  {
   "cell_type": "code",
   "execution_count": 8,
   "outputs": [
    {
     "data": {
      "text/plain": "['model',\n 'Price',\n 'Gas Mileage',\n 'Engine',\n 'EPA Class',\n 'Style Name',\n 'Drivetrain',\n 'Passenger Capacity',\n 'Passenger Doors',\n 'Body Style',\n 'Transmission',\n 'EPA Classification',\n 'Base Curb Weight (lbs)',\n 'Front Hip Room (in)',\n 'Front Leg Room (in)',\n 'Second Shoulder Room (in)',\n 'Passenger Volume (ft³)',\n 'Second Head Room (in)',\n 'Front Shoulder Room (in)',\n 'Second Hip Room (in)',\n 'Front Head Room (in)',\n 'Second Leg Room (in)',\n 'Wheelbase (in)',\n 'Min Ground Clearance (in)',\n 'Track Width, Front (in)',\n 'Width, Max w/o mirrors (in)',\n 'Track Width, Rear (in)',\n 'Height, Overall (in)',\n 'Cargo Volume to Seat 1 (ft³)',\n 'Cargo Volume to Seat 2 (ft³)',\n 'Cargo Volume to Seat 3 (ft³)',\n 'Fuel Tank Capacity, Approx (gal)',\n 'Fuel Economy Est-Combined (MPG)',\n 'EPA Fuel Economy Est - City (MPG)',\n 'EPA Fuel Economy Est - Hwy (MPG)',\n 'Engine Order Code',\n 'SAE Net Torque @ RPM',\n 'Fuel System',\n 'Engine Type',\n 'SAE Net Horsepower @ RPM',\n 'Displacement',\n 'First Gear Ratio (:1)',\n 'Sixth Gear Ratio (:1)',\n 'Trans Description Cont.',\n 'Fourth Gear Ratio (:1)',\n 'Seventh Gear Ratio (:1)',\n 'Trans Order Code',\n 'Second Gear Ratio (:1)',\n 'Reverse Ratio (:1)',\n 'Trans Description Cont. Again',\n 'Fifth Gear Ratio (:1)',\n 'Eighth Gear Ratio (:1)',\n 'Trans Type',\n 'Third Gear Ratio (:1)',\n 'Final Drive Axle Ratio (:1)',\n 'Brake Type',\n 'Rear Brake Rotor Diam x Thickness (in)',\n 'Disc - Rear (Yes or   )',\n 'Brake ABS System',\n 'Drum - Rear (Yes or   )',\n 'Front Brake Rotor Diam x Thickness (in)',\n 'Disc - Front (Yes or   )',\n 'Rear Drum Diam x Width (in)',\n 'Steering Type',\n 'Turning Diameter - Curb to Curb (ft)',\n 'Front Tire Order Code',\n 'Spare Tire Size',\n 'Front Tire Size',\n 'Rear Tire Order Code',\n 'Rear Tire Size',\n 'Spare Tire Order Code',\n 'Front Wheel Size (in)',\n 'Spare Wheel Material',\n 'Front Wheel Material',\n 'Rear Wheel Size (in)',\n 'Rear Wheel Material',\n 'Spare Wheel Size (in)',\n 'Suspension Type - Front',\n 'Suspension Type - Rear (Cont.)',\n 'Suspension Type - Rear',\n 'Suspension Type - Front (Cont.)',\n 'Air Bag-Frontal-Driver',\n 'Air Bag-Frontal-Passenger',\n 'Air Bag-Passenger Switch (On/Off)',\n 'Air Bag-Side Body-Front',\n 'Air Bag-Side Body-Rear',\n 'Air Bag-Side Head-Front',\n 'Air Bag-Side Head-Rear',\n 'Brakes-ABS',\n 'Child Safety Rear Door Locks',\n 'Daytime Running Lights',\n 'Traction Control',\n 'Night Vision',\n 'Rollover Protection Bars',\n 'Fog Lamps',\n 'Parking Aid',\n 'Tire Pressure Monitor',\n 'Back-Up Camera',\n 'Stability Control',\n 'Other Features',\n 'Basic Miles/km',\n 'Basic Years',\n 'Corrosion Miles/km',\n 'Corrosion Years',\n 'Drivetrain Miles/km',\n 'Drivetrain Years',\n 'Roadside Assistance Miles/km',\n 'Roadside Assistance Years',\n 'Maximum Alternator Capacity (amps)',\n 'Cold Cranking Amps @ 0° F (Primary)',\n 'Wt Distributing Hitch - Max Tongue Wt. (lbs)',\n 'Dead Weight Hitch - Max Tongue Wt. (lbs)',\n 'Maximum Trailering Capacity (lbs)',\n 'Wt Distributing Hitch - Max Trailer Wt. (lbs)',\n 'Dead Weight Hitch - Max Trailer Wt. (lbs)',\n 'Liftover Height (in)',\n 'Rear Door Opening Height (in)',\n 'Rear Door Opening Width (in)',\n 'Length, Overall (in)',\n 'Cargo Box Width @ Wheelhousings (in)',\n 'Cargo Area Length @ Floor to Seat 3 (in)',\n 'Cargo Area Length @ Floor to Seat 1 (in)',\n 'Cargo Box (Area) Height (in)',\n 'Cargo Area Width @ Beltline (in)',\n 'Cargo Area Length @ Floor to Seat 2 (in)',\n 'Clutch Size (in)',\n 'Turning Diameter - Wall to Wall (ft)',\n 'Lock to Lock Turns (Steering)',\n 'Steering Ratio (:1), Overall',\n 'Shock Absorber Diameter - Front (mm)',\n 'Stabilizer Bar Diameter - Rear (in)',\n 'Shock Absorber Diameter - Rear (mm)',\n 'Stabilizer Bar Diameter - Front (in)',\n 'Total Cooling System Capacity (qts)',\n 'Third Shoulder Room (in)',\n 'Third Head Room (in)',\n 'Third Hip Room (in)',\n 'Third Leg Room (in)',\n 'Hybrid/Electric Components Miles/km',\n 'Hybrid/Electric Components Years',\n 'Transfer Case Gear Ratio (:1), High',\n 'Transfer Case Gear Ratio (:1), Low',\n 'Trunk Volume (ft³)',\n 'Number of Passenger Doors',\n 'Roadside Assistance Note',\n 'Warranty Note',\n 'Maintenance Miles/km',\n 'Maintenance Years',\n 'Basic Note',\n 'Cargo Volume with Rear Seat Up (ft³)',\n 'Cargo Volume with Rear Seat Down (ft³)',\n 'Gross Vehicle Weight Rating Cap (lbs)',\n 'Engine Oil Cooler',\n 'Transfer Case Model',\n 'Transfer Case Power Take Off',\n 'Trans PTO Access',\n 'Brake ABS System (Second Line)',\n 'Axle Type - Rear',\n 'Axle Type - Front',\n 'Cold Cranking Amps @ 0° F (2nd)',\n 'EPA MPG Equivalent - Combined',\n 'Battery Range (mi)',\n 'Axle Ratio (:1) - Rear',\n 'Axle Ratio (:1) - Front',\n 'Gross Axle Wt Rating - Front (lbs)',\n 'Gross Axle Wt Rating - Rear (lbs)',\n 'EPA MPG Equivalent - City',\n 'EPA MPG Equivalent - Hwy',\n 'Maintenance Note',\n 'Emissions Miles/km',\n 'Emissions Years',\n 'Ninth Gear Ratio (:1)',\n 'EPA Air Pollution Score',\n 'Rear Door Type',\n 'Curb Weight - Front (lbs)',\n 'Gross Combined Wt Rating (lbs)',\n 'Curb Weight - Rear (lbs)',\n 'Ground Clearance, Rear (in)',\n 'Step Up Height - Front (in)',\n 'Length, Overall w/rear bumper (in)',\n 'Ground to Top of Load Floor (in)',\n 'Side Door Opening Height (in)',\n 'Overhang, Front (in)',\n 'Step Up Height - Side (in)',\n 'Ground Clearance, Front (in)',\n 'Side Door Opening Width (in)',\n 'Overhang, Rear w/bumper (in)',\n 'Cargo Volume to Seat 4 (ft³)',\n 'Cargo Area Length @ Floor to Seat 4 (in)',\n 'Cargo Area Length @ Floor to Console (in)',\n 'Aux Fuel Tank Capacity, Approx (gal)',\n 'Fuel Tank Location',\n 'Aux Fuel Tank Location',\n 'Trans Power Take Off',\n 'Tenth Gear Ratio (:1)',\n 'Steering Ratio (:1), On Center',\n 'Steering Ratio (:1), At Lock',\n 'Spare Tire Capacity (lbs)',\n 'Front Tire Capacity (lbs)',\n 'Revolutions/Mile @ 45 mph - Spare',\n 'Revolutions/Mile @ 45 mph - Front',\n 'Rear Tire Capacity (lbs)',\n 'Revolutions/Mile @ 45 mph - Rear',\n 'Axle Capacity - Front (lbs)',\n 'Spring Capacity - Front (lbs)',\n 'Axle Capacity - Rear (lbs)',\n 'Spring Capacity - Rear (lbs)',\n 'Maximum Alternator Watts',\n 'Fifth Wheel Hitch - Max Trailer Wt. (lbs)',\n 'Fifth Wheel Hitch - Max Tongue Wt. (lbs)',\n 'Length, Overall w/o rear bumper (in)',\n 'Front Bumper to Back of Cab (in)',\n 'Frame Width, Rear (in)',\n 'Cab to Axle (in)',\n 'Overhang, Rear w/o bumper (in)',\n 'Ground to Top of Frame (in)',\n 'Cab to End of Frame (in)',\n 'Cargo Box Width @ Top, Rear (in)',\n 'Cargo Volume (ft³)',\n 'Cargo Box Width @ Floor (in)',\n \"Ext'd Cab Cargo Volume (ft³)\",\n 'Cargo Box Length @ Floor (in)',\n 'Tailgate Width (in)',\n 'Drivetrain Note',\n 'Emissions Note',\n 'Fourth Hip Room (in)',\n 'Fourth Leg Room (in)',\n 'Fourth Shoulder Room (in)',\n 'Fourth Head Room (in)',\n 'Fifth Shoulder Room (in)',\n 'Fifth Head Room (in)',\n 'Fifth Hip Room (in)',\n 'Fifth Leg Room (in)',\n 'Corrosion Note',\n 'Hybrid/Electric Components Note']"
     },
     "execution_count": 8,
     "metadata": {},
     "output_type": "execute_result"
    }
   ],
   "source": [
    "df.columns.tolist()"
   ],
   "metadata": {
    "collapsed": false,
    "pycharm": {
     "name": "#%%\n"
    }
   }
  },
  {
   "cell_type": "code",
   "execution_count": 9,
   "outputs": [],
   "source": [
    "columns_to_keep=['model', 'Price', 'EPA Class' ,'Gas Mileage',  'Engine', 'Drivetrain', 'Passenger Capacity',  'Passenger Doors',  'Body Style', 'Maintenance Miles/km', 'Emissions Note', 'Transmission']"
   ],
   "metadata": {
    "collapsed": false,
    "pycharm": {
     "name": "#%%\n"
    }
   }
  },
  {
   "cell_type": "code",
   "execution_count": 10,
   "outputs": [],
   "source": [
    "data=df[columns_to_keep]"
   ],
   "metadata": {
    "collapsed": false,
    "pycharm": {
     "name": "#%%\n"
    }
   }
  },
  {
   "cell_type": "code",
   "execution_count": 11,
   "outputs": [
    {
     "data": {
      "text/plain": "0                                       model    Price  \\\n1  2019 Acura RDX Specs: FWD w/Technology Pkg  $40,600   \n2     2019 Acura RDX Specs: FWD w/Advance Pkg  $45,500   \n3      2019 Acura RDX Specs: FWD w/A-Spec Pkg  $43,600   \n4                   2019 Acura RDX Specs: FWD  $37,400   \n\n0                         EPA Class             Gas Mileage  \\\n1  Small Sport Utility Vehicles 2WD  22 mpg City/28 mpg Hwy   \n2  Small Sport Utility Vehicles 2WD  22 mpg City/28 mpg Hwy   \n3  Small Sport Utility Vehicles 2WD  22 mpg City/27 mpg Hwy   \n4  Small Sport Utility Vehicles 2WD  22 mpg City/28 mpg Hwy   \n\n0                             Engine         Drivetrain Passenger Capacity  \\\n1  Turbo Premium Unleaded I-4, 2.0 L  Front Wheel Drive                  5   \n2  Turbo Premium Unleaded I-4, 2.0 L  Front Wheel Drive                  5   \n3  Turbo Premium Unleaded I-4, 2.0 L  Front Wheel Drive                  5   \n4  Turbo Premium Unleaded I-4, 2.0 L  Front Wheel Drive                  5   \n\n0 Passenger Doors     Body Style Maintenance Miles/km Emissions Note  \\\n1               4  Sport Utility                  NaN            NaN   \n2               4  Sport Utility                  NaN            NaN   \n3               4  Sport Utility                  NaN            NaN   \n4               4  Sport Utility                  NaN            NaN   \n\n0                                       Transmission  \n1  Transmission: 10-Speed Automatic -inc: sequent...  \n2  Transmission: 10-Speed Automatic -inc: sequent...  \n3  Transmission: 10-Speed Automatic -inc: sequent...  \n4  Transmission: 10-Speed Automatic -inc: sequent...  ",
      "text/html": "<div>\n<style scoped>\n    .dataframe tbody tr th:only-of-type {\n        vertical-align: middle;\n    }\n\n    .dataframe tbody tr th {\n        vertical-align: top;\n    }\n\n    .dataframe thead th {\n        text-align: right;\n    }\n</style>\n<table border=\"1\" class=\"dataframe\">\n  <thead>\n    <tr style=\"text-align: right;\">\n      <th></th>\n      <th>model</th>\n      <th>Price</th>\n      <th>EPA Class</th>\n      <th>Gas Mileage</th>\n      <th>Engine</th>\n      <th>Drivetrain</th>\n      <th>Passenger Capacity</th>\n      <th>Passenger Doors</th>\n      <th>Body Style</th>\n      <th>Maintenance Miles/km</th>\n      <th>Emissions Note</th>\n      <th>Transmission</th>\n    </tr>\n  </thead>\n  <tbody>\n    <tr>\n      <th>1</th>\n      <td>2019 Acura RDX Specs: FWD w/Technology Pkg</td>\n      <td>$40,600</td>\n      <td>Small Sport Utility Vehicles 2WD</td>\n      <td>22 mpg City/28 mpg Hwy</td>\n      <td>Turbo Premium Unleaded I-4, 2.0 L</td>\n      <td>Front Wheel Drive</td>\n      <td>5</td>\n      <td>4</td>\n      <td>Sport Utility</td>\n      <td>NaN</td>\n      <td>NaN</td>\n      <td>Transmission: 10-Speed Automatic -inc: sequent...</td>\n    </tr>\n    <tr>\n      <th>2</th>\n      <td>2019 Acura RDX Specs: FWD w/Advance Pkg</td>\n      <td>$45,500</td>\n      <td>Small Sport Utility Vehicles 2WD</td>\n      <td>22 mpg City/28 mpg Hwy</td>\n      <td>Turbo Premium Unleaded I-4, 2.0 L</td>\n      <td>Front Wheel Drive</td>\n      <td>5</td>\n      <td>4</td>\n      <td>Sport Utility</td>\n      <td>NaN</td>\n      <td>NaN</td>\n      <td>Transmission: 10-Speed Automatic -inc: sequent...</td>\n    </tr>\n    <tr>\n      <th>3</th>\n      <td>2019 Acura RDX Specs: FWD w/A-Spec Pkg</td>\n      <td>$43,600</td>\n      <td>Small Sport Utility Vehicles 2WD</td>\n      <td>22 mpg City/27 mpg Hwy</td>\n      <td>Turbo Premium Unleaded I-4, 2.0 L</td>\n      <td>Front Wheel Drive</td>\n      <td>5</td>\n      <td>4</td>\n      <td>Sport Utility</td>\n      <td>NaN</td>\n      <td>NaN</td>\n      <td>Transmission: 10-Speed Automatic -inc: sequent...</td>\n    </tr>\n    <tr>\n      <th>4</th>\n      <td>2019 Acura RDX Specs: FWD</td>\n      <td>$37,400</td>\n      <td>Small Sport Utility Vehicles 2WD</td>\n      <td>22 mpg City/28 mpg Hwy</td>\n      <td>Turbo Premium Unleaded I-4, 2.0 L</td>\n      <td>Front Wheel Drive</td>\n      <td>5</td>\n      <td>4</td>\n      <td>Sport Utility</td>\n      <td>NaN</td>\n      <td>NaN</td>\n      <td>Transmission: 10-Speed Automatic -inc: sequent...</td>\n    </tr>\n  </tbody>\n</table>\n</div>"
     },
     "execution_count": 11,
     "metadata": {},
     "output_type": "execute_result"
    }
   ],
   "source": [
    "data.head(4)"
   ],
   "metadata": {
    "collapsed": false,
    "pycharm": {
     "name": "#%%\n"
    }
   }
  },
  {
   "cell_type": "code",
   "execution_count": 12,
   "outputs": [
    {
     "name": "stdout",
     "output_type": "stream",
     "text": [
      "8-speed Tiptronic automatic transmission -inc: dynamic shift program\n"
     ]
    }
   ],
   "source": [
    "print(df.loc[588, 'Transmission'])"
   ],
   "metadata": {
    "collapsed": false,
    "pycharm": {
     "name": "#%%\n"
    }
   }
  },
  {
   "cell_type": "code",
   "execution_count": 13,
   "outputs": [],
   "source": [
    "data_model = [val.split(' ')[1] for val in data['model'].values]\n",
    "data_year = [val.split(' ')[0] for val in data['model'].values]\n",
    "\n",
    "data['model'] = data_model\n",
    "data.insert(1, 'year', data_year, True)"
   ],
   "metadata": {
    "collapsed": false,
    "pycharm": {
     "name": "#%%\n"
    }
   }
  },
  {
   "cell_type": "code",
   "execution_count": 14,
   "outputs": [
    {
     "data": {
      "text/plain": "0  model  year    Price                         EPA Class  \\\n1  Acura  2019  $40,600  Small Sport Utility Vehicles 2WD   \n2  Acura  2019  $45,500  Small Sport Utility Vehicles 2WD   \n3  Acura  2019  $43,600  Small Sport Utility Vehicles 2WD   \n4  Acura  2019  $37,400  Small Sport Utility Vehicles 2WD   \n\n0             Gas Mileage                             Engine  \\\n1  22 mpg City/28 mpg Hwy  Turbo Premium Unleaded I-4, 2.0 L   \n2  22 mpg City/28 mpg Hwy  Turbo Premium Unleaded I-4, 2.0 L   \n3  22 mpg City/27 mpg Hwy  Turbo Premium Unleaded I-4, 2.0 L   \n4  22 mpg City/28 mpg Hwy  Turbo Premium Unleaded I-4, 2.0 L   \n\n0         Drivetrain Passenger Capacity Passenger Doors     Body Style  \\\n1  Front Wheel Drive                  5               4  Sport Utility   \n2  Front Wheel Drive                  5               4  Sport Utility   \n3  Front Wheel Drive                  5               4  Sport Utility   \n4  Front Wheel Drive                  5               4  Sport Utility   \n\n0 Maintenance Miles/km Emissions Note  \\\n1                  NaN            NaN   \n2                  NaN            NaN   \n3                  NaN            NaN   \n4                  NaN            NaN   \n\n0                                       Transmission  \n1  Transmission: 10-Speed Automatic -inc: sequent...  \n2  Transmission: 10-Speed Automatic -inc: sequent...  \n3  Transmission: 10-Speed Automatic -inc: sequent...  \n4  Transmission: 10-Speed Automatic -inc: sequent...  ",
      "text/html": "<div>\n<style scoped>\n    .dataframe tbody tr th:only-of-type {\n        vertical-align: middle;\n    }\n\n    .dataframe tbody tr th {\n        vertical-align: top;\n    }\n\n    .dataframe thead th {\n        text-align: right;\n    }\n</style>\n<table border=\"1\" class=\"dataframe\">\n  <thead>\n    <tr style=\"text-align: right;\">\n      <th></th>\n      <th>model</th>\n      <th>year</th>\n      <th>Price</th>\n      <th>EPA Class</th>\n      <th>Gas Mileage</th>\n      <th>Engine</th>\n      <th>Drivetrain</th>\n      <th>Passenger Capacity</th>\n      <th>Passenger Doors</th>\n      <th>Body Style</th>\n      <th>Maintenance Miles/km</th>\n      <th>Emissions Note</th>\n      <th>Transmission</th>\n    </tr>\n  </thead>\n  <tbody>\n    <tr>\n      <th>1</th>\n      <td>Acura</td>\n      <td>2019</td>\n      <td>$40,600</td>\n      <td>Small Sport Utility Vehicles 2WD</td>\n      <td>22 mpg City/28 mpg Hwy</td>\n      <td>Turbo Premium Unleaded I-4, 2.0 L</td>\n      <td>Front Wheel Drive</td>\n      <td>5</td>\n      <td>4</td>\n      <td>Sport Utility</td>\n      <td>NaN</td>\n      <td>NaN</td>\n      <td>Transmission: 10-Speed Automatic -inc: sequent...</td>\n    </tr>\n    <tr>\n      <th>2</th>\n      <td>Acura</td>\n      <td>2019</td>\n      <td>$45,500</td>\n      <td>Small Sport Utility Vehicles 2WD</td>\n      <td>22 mpg City/28 mpg Hwy</td>\n      <td>Turbo Premium Unleaded I-4, 2.0 L</td>\n      <td>Front Wheel Drive</td>\n      <td>5</td>\n      <td>4</td>\n      <td>Sport Utility</td>\n      <td>NaN</td>\n      <td>NaN</td>\n      <td>Transmission: 10-Speed Automatic -inc: sequent...</td>\n    </tr>\n    <tr>\n      <th>3</th>\n      <td>Acura</td>\n      <td>2019</td>\n      <td>$43,600</td>\n      <td>Small Sport Utility Vehicles 2WD</td>\n      <td>22 mpg City/27 mpg Hwy</td>\n      <td>Turbo Premium Unleaded I-4, 2.0 L</td>\n      <td>Front Wheel Drive</td>\n      <td>5</td>\n      <td>4</td>\n      <td>Sport Utility</td>\n      <td>NaN</td>\n      <td>NaN</td>\n      <td>Transmission: 10-Speed Automatic -inc: sequent...</td>\n    </tr>\n    <tr>\n      <th>4</th>\n      <td>Acura</td>\n      <td>2019</td>\n      <td>$37,400</td>\n      <td>Small Sport Utility Vehicles 2WD</td>\n      <td>22 mpg City/28 mpg Hwy</td>\n      <td>Turbo Premium Unleaded I-4, 2.0 L</td>\n      <td>Front Wheel Drive</td>\n      <td>5</td>\n      <td>4</td>\n      <td>Sport Utility</td>\n      <td>NaN</td>\n      <td>NaN</td>\n      <td>Transmission: 10-Speed Automatic -inc: sequent...</td>\n    </tr>\n  </tbody>\n</table>\n</div>"
     },
     "execution_count": 14,
     "metadata": {},
     "output_type": "execute_result"
    }
   ],
   "source": [
    "data.head(4)"
   ],
   "metadata": {
    "collapsed": false,
    "pycharm": {
     "name": "#%%\n"
    }
   }
  },
  {
   "cell_type": "code",
   "execution_count": 15,
   "outputs": [],
   "source": [
    "data['Price'] = data['Price'].str.replace('$', '')\n",
    "data['Price'] = data['Price'].str.replace(',', '')"
   ],
   "metadata": {
    "collapsed": false,
    "pycharm": {
     "name": "#%%\n"
    }
   }
  },
  {
   "cell_type": "code",
   "execution_count": 16,
   "outputs": [
    {
     "data": {
      "text/plain": "0  model  year  Price                         EPA Class  \\\n1  Acura  2019  40600  Small Sport Utility Vehicles 2WD   \n2  Acura  2019  45500  Small Sport Utility Vehicles 2WD   \n3  Acura  2019  43600  Small Sport Utility Vehicles 2WD   \n4  Acura  2019  37400  Small Sport Utility Vehicles 2WD   \n\n0             Gas Mileage                             Engine  \\\n1  22 mpg City/28 mpg Hwy  Turbo Premium Unleaded I-4, 2.0 L   \n2  22 mpg City/28 mpg Hwy  Turbo Premium Unleaded I-4, 2.0 L   \n3  22 mpg City/27 mpg Hwy  Turbo Premium Unleaded I-4, 2.0 L   \n4  22 mpg City/28 mpg Hwy  Turbo Premium Unleaded I-4, 2.0 L   \n\n0         Drivetrain Passenger Capacity Passenger Doors     Body Style  \\\n1  Front Wheel Drive                  5               4  Sport Utility   \n2  Front Wheel Drive                  5               4  Sport Utility   \n3  Front Wheel Drive                  5               4  Sport Utility   \n4  Front Wheel Drive                  5               4  Sport Utility   \n\n0 Maintenance Miles/km Emissions Note  \\\n1                  NaN            NaN   \n2                  NaN            NaN   \n3                  NaN            NaN   \n4                  NaN            NaN   \n\n0                                       Transmission  \n1  Transmission: 10-Speed Automatic -inc: sequent...  \n2  Transmission: 10-Speed Automatic -inc: sequent...  \n3  Transmission: 10-Speed Automatic -inc: sequent...  \n4  Transmission: 10-Speed Automatic -inc: sequent...  ",
      "text/html": "<div>\n<style scoped>\n    .dataframe tbody tr th:only-of-type {\n        vertical-align: middle;\n    }\n\n    .dataframe tbody tr th {\n        vertical-align: top;\n    }\n\n    .dataframe thead th {\n        text-align: right;\n    }\n</style>\n<table border=\"1\" class=\"dataframe\">\n  <thead>\n    <tr style=\"text-align: right;\">\n      <th></th>\n      <th>model</th>\n      <th>year</th>\n      <th>Price</th>\n      <th>EPA Class</th>\n      <th>Gas Mileage</th>\n      <th>Engine</th>\n      <th>Drivetrain</th>\n      <th>Passenger Capacity</th>\n      <th>Passenger Doors</th>\n      <th>Body Style</th>\n      <th>Maintenance Miles/km</th>\n      <th>Emissions Note</th>\n      <th>Transmission</th>\n    </tr>\n  </thead>\n  <tbody>\n    <tr>\n      <th>1</th>\n      <td>Acura</td>\n      <td>2019</td>\n      <td>40600</td>\n      <td>Small Sport Utility Vehicles 2WD</td>\n      <td>22 mpg City/28 mpg Hwy</td>\n      <td>Turbo Premium Unleaded I-4, 2.0 L</td>\n      <td>Front Wheel Drive</td>\n      <td>5</td>\n      <td>4</td>\n      <td>Sport Utility</td>\n      <td>NaN</td>\n      <td>NaN</td>\n      <td>Transmission: 10-Speed Automatic -inc: sequent...</td>\n    </tr>\n    <tr>\n      <th>2</th>\n      <td>Acura</td>\n      <td>2019</td>\n      <td>45500</td>\n      <td>Small Sport Utility Vehicles 2WD</td>\n      <td>22 mpg City/28 mpg Hwy</td>\n      <td>Turbo Premium Unleaded I-4, 2.0 L</td>\n      <td>Front Wheel Drive</td>\n      <td>5</td>\n      <td>4</td>\n      <td>Sport Utility</td>\n      <td>NaN</td>\n      <td>NaN</td>\n      <td>Transmission: 10-Speed Automatic -inc: sequent...</td>\n    </tr>\n    <tr>\n      <th>3</th>\n      <td>Acura</td>\n      <td>2019</td>\n      <td>43600</td>\n      <td>Small Sport Utility Vehicles 2WD</td>\n      <td>22 mpg City/27 mpg Hwy</td>\n      <td>Turbo Premium Unleaded I-4, 2.0 L</td>\n      <td>Front Wheel Drive</td>\n      <td>5</td>\n      <td>4</td>\n      <td>Sport Utility</td>\n      <td>NaN</td>\n      <td>NaN</td>\n      <td>Transmission: 10-Speed Automatic -inc: sequent...</td>\n    </tr>\n    <tr>\n      <th>4</th>\n      <td>Acura</td>\n      <td>2019</td>\n      <td>37400</td>\n      <td>Small Sport Utility Vehicles 2WD</td>\n      <td>22 mpg City/28 mpg Hwy</td>\n      <td>Turbo Premium Unleaded I-4, 2.0 L</td>\n      <td>Front Wheel Drive</td>\n      <td>5</td>\n      <td>4</td>\n      <td>Sport Utility</td>\n      <td>NaN</td>\n      <td>NaN</td>\n      <td>Transmission: 10-Speed Automatic -inc: sequent...</td>\n    </tr>\n  </tbody>\n</table>\n</div>"
     },
     "execution_count": 16,
     "metadata": {},
     "output_type": "execute_result"
    }
   ],
   "source": [
    "data.head(4)"
   ],
   "metadata": {
    "collapsed": false,
    "pycharm": {
     "name": "#%%\n"
    }
   }
  },
  {
   "cell_type": "code",
   "execution_count": 17,
   "outputs": [],
   "source": [
    "for v, w in enumerate(data['Gas Mileage'], start=1):\n",
    "    if type(w) != str:\n",
    "        continue\n",
    "    else:\n",
    "        f = w.find('/')\n",
    "        if f == -1:\n",
    "            data.loc[v, 'Gas Mileage'] = int(int(w.split(' ')[0]))\n",
    "        else:\n",
    "            n1 = int(w.split('/')[1].split(' ')[0])\n",
    "            n2 = int(w.split(' ')[0])\n",
    "            data.loc[v, 'Gas Mileage'] = int(n1 + n2)"
   ],
   "metadata": {
    "collapsed": false,
    "pycharm": {
     "name": "#%%\n"
    }
   }
  },
  {
   "cell_type": "code",
   "execution_count": 18,
   "outputs": [
    {
     "data": {
      "text/plain": "0  model  year  Price                         EPA Class Gas Mileage  \\\n1  Acura  2019  40600  Small Sport Utility Vehicles 2WD          50   \n2  Acura  2019  45500  Small Sport Utility Vehicles 2WD          50   \n3  Acura  2019  43600  Small Sport Utility Vehicles 2WD          49   \n4  Acura  2019  37400  Small Sport Utility Vehicles 2WD          50   \n5  Acura  2019  42600  Small Sport Utility Vehicles 4WD          48   \n\n0                             Engine         Drivetrain Passenger Capacity  \\\n1  Turbo Premium Unleaded I-4, 2.0 L  Front Wheel Drive                  5   \n2  Turbo Premium Unleaded I-4, 2.0 L  Front Wheel Drive                  5   \n3  Turbo Premium Unleaded I-4, 2.0 L  Front Wheel Drive                  5   \n4  Turbo Premium Unleaded I-4, 2.0 L  Front Wheel Drive                  5   \n5  Turbo Premium Unleaded I-4, 2.0 L    All Wheel Drive                  5   \n\n0 Passenger Doors     Body Style Maintenance Miles/km Emissions Note  \\\n1               4  Sport Utility                  NaN            NaN   \n2               4  Sport Utility                  NaN            NaN   \n3               4  Sport Utility                  NaN            NaN   \n4               4  Sport Utility                  NaN            NaN   \n5               4  Sport Utility                  NaN            NaN   \n\n0                                       Transmission  \n1  Transmission: 10-Speed Automatic -inc: sequent...  \n2  Transmission: 10-Speed Automatic -inc: sequent...  \n3  Transmission: 10-Speed Automatic -inc: sequent...  \n4  Transmission: 10-Speed Automatic -inc: sequent...  \n5  Transmission: 10-Speed Automatic -inc: sequent...  ",
      "text/html": "<div>\n<style scoped>\n    .dataframe tbody tr th:only-of-type {\n        vertical-align: middle;\n    }\n\n    .dataframe tbody tr th {\n        vertical-align: top;\n    }\n\n    .dataframe thead th {\n        text-align: right;\n    }\n</style>\n<table border=\"1\" class=\"dataframe\">\n  <thead>\n    <tr style=\"text-align: right;\">\n      <th></th>\n      <th>model</th>\n      <th>year</th>\n      <th>Price</th>\n      <th>EPA Class</th>\n      <th>Gas Mileage</th>\n      <th>Engine</th>\n      <th>Drivetrain</th>\n      <th>Passenger Capacity</th>\n      <th>Passenger Doors</th>\n      <th>Body Style</th>\n      <th>Maintenance Miles/km</th>\n      <th>Emissions Note</th>\n      <th>Transmission</th>\n    </tr>\n  </thead>\n  <tbody>\n    <tr>\n      <th>1</th>\n      <td>Acura</td>\n      <td>2019</td>\n      <td>40600</td>\n      <td>Small Sport Utility Vehicles 2WD</td>\n      <td>50</td>\n      <td>Turbo Premium Unleaded I-4, 2.0 L</td>\n      <td>Front Wheel Drive</td>\n      <td>5</td>\n      <td>4</td>\n      <td>Sport Utility</td>\n      <td>NaN</td>\n      <td>NaN</td>\n      <td>Transmission: 10-Speed Automatic -inc: sequent...</td>\n    </tr>\n    <tr>\n      <th>2</th>\n      <td>Acura</td>\n      <td>2019</td>\n      <td>45500</td>\n      <td>Small Sport Utility Vehicles 2WD</td>\n      <td>50</td>\n      <td>Turbo Premium Unleaded I-4, 2.0 L</td>\n      <td>Front Wheel Drive</td>\n      <td>5</td>\n      <td>4</td>\n      <td>Sport Utility</td>\n      <td>NaN</td>\n      <td>NaN</td>\n      <td>Transmission: 10-Speed Automatic -inc: sequent...</td>\n    </tr>\n    <tr>\n      <th>3</th>\n      <td>Acura</td>\n      <td>2019</td>\n      <td>43600</td>\n      <td>Small Sport Utility Vehicles 2WD</td>\n      <td>49</td>\n      <td>Turbo Premium Unleaded I-4, 2.0 L</td>\n      <td>Front Wheel Drive</td>\n      <td>5</td>\n      <td>4</td>\n      <td>Sport Utility</td>\n      <td>NaN</td>\n      <td>NaN</td>\n      <td>Transmission: 10-Speed Automatic -inc: sequent...</td>\n    </tr>\n    <tr>\n      <th>4</th>\n      <td>Acura</td>\n      <td>2019</td>\n      <td>37400</td>\n      <td>Small Sport Utility Vehicles 2WD</td>\n      <td>50</td>\n      <td>Turbo Premium Unleaded I-4, 2.0 L</td>\n      <td>Front Wheel Drive</td>\n      <td>5</td>\n      <td>4</td>\n      <td>Sport Utility</td>\n      <td>NaN</td>\n      <td>NaN</td>\n      <td>Transmission: 10-Speed Automatic -inc: sequent...</td>\n    </tr>\n    <tr>\n      <th>5</th>\n      <td>Acura</td>\n      <td>2019</td>\n      <td>42600</td>\n      <td>Small Sport Utility Vehicles 4WD</td>\n      <td>48</td>\n      <td>Turbo Premium Unleaded I-4, 2.0 L</td>\n      <td>All Wheel Drive</td>\n      <td>5</td>\n      <td>4</td>\n      <td>Sport Utility</td>\n      <td>NaN</td>\n      <td>NaN</td>\n      <td>Transmission: 10-Speed Automatic -inc: sequent...</td>\n    </tr>\n  </tbody>\n</table>\n</div>"
     },
     "execution_count": 18,
     "metadata": {},
     "output_type": "execute_result"
    }
   ],
   "source": [
    "data.head(5)"
   ],
   "metadata": {
    "collapsed": false,
    "pycharm": {
     "name": "#%%\n"
    }
   }
  },
  {
   "cell_type": "code",
   "execution_count": 19,
   "outputs": [],
   "source": [
    "for r, engine in enumerate(data['Engine'], start=1):\n",
    "    if type(engine) != str:\n",
    "        continue\n",
    "    else:\n",
    "        g = engine.find('/')\n",
    "        if g == -1:\n",
    "            if 'Gas' in engine:\n",
    "                data.loc[r, 'Engine'] = 100\n",
    "            elif 'Unleaded' in engine:\n",
    "                data.loc[r, 'Engine'] = 150\n",
    "            elif ' Electric' in engine:\n",
    "                data.loc[r, 'Engine'] = 200\n",
    "            elif 'Diesel' in engine:\n",
    "                data.loc[r, 'Engine'] = 250\n",
    "            else:\n",
    "                data.loc[r, 'Engine'] = 300\n",
    "        else:\n",
    "            if 'Gas/Electric' in engine:\n",
    "                data.loc[r, 'Engine'] = 350\n",
    "            elif 'Gas/Ethanol' in engine:\n",
    "                data.loc[r, 'Engine'] = 400\n",
    "            else:\n",
    "                data.loc[r, 'Engine'] = 450"
   ],
   "metadata": {
    "collapsed": false,
    "pycharm": {
     "name": "#%%\n"
    }
   }
  },
  {
   "cell_type": "code",
   "execution_count": 20,
   "outputs": [
    {
     "data": {
      "text/plain": "0  model  year  Price                         EPA Class Gas Mileage Engine  \\\n1  Acura  2019  40600  Small Sport Utility Vehicles 2WD          50    150   \n2  Acura  2019  45500  Small Sport Utility Vehicles 2WD          50    150   \n3  Acura  2019  43600  Small Sport Utility Vehicles 2WD          49    150   \n4  Acura  2019  37400  Small Sport Utility Vehicles 2WD          50    150   \n\n0         Drivetrain Passenger Capacity Passenger Doors     Body Style  \\\n1  Front Wheel Drive                  5               4  Sport Utility   \n2  Front Wheel Drive                  5               4  Sport Utility   \n3  Front Wheel Drive                  5               4  Sport Utility   \n4  Front Wheel Drive                  5               4  Sport Utility   \n\n0 Maintenance Miles/km Emissions Note  \\\n1                  NaN            NaN   \n2                  NaN            NaN   \n3                  NaN            NaN   \n4                  NaN            NaN   \n\n0                                       Transmission  \n1  Transmission: 10-Speed Automatic -inc: sequent...  \n2  Transmission: 10-Speed Automatic -inc: sequent...  \n3  Transmission: 10-Speed Automatic -inc: sequent...  \n4  Transmission: 10-Speed Automatic -inc: sequent...  ",
      "text/html": "<div>\n<style scoped>\n    .dataframe tbody tr th:only-of-type {\n        vertical-align: middle;\n    }\n\n    .dataframe tbody tr th {\n        vertical-align: top;\n    }\n\n    .dataframe thead th {\n        text-align: right;\n    }\n</style>\n<table border=\"1\" class=\"dataframe\">\n  <thead>\n    <tr style=\"text-align: right;\">\n      <th></th>\n      <th>model</th>\n      <th>year</th>\n      <th>Price</th>\n      <th>EPA Class</th>\n      <th>Gas Mileage</th>\n      <th>Engine</th>\n      <th>Drivetrain</th>\n      <th>Passenger Capacity</th>\n      <th>Passenger Doors</th>\n      <th>Body Style</th>\n      <th>Maintenance Miles/km</th>\n      <th>Emissions Note</th>\n      <th>Transmission</th>\n    </tr>\n  </thead>\n  <tbody>\n    <tr>\n      <th>1</th>\n      <td>Acura</td>\n      <td>2019</td>\n      <td>40600</td>\n      <td>Small Sport Utility Vehicles 2WD</td>\n      <td>50</td>\n      <td>150</td>\n      <td>Front Wheel Drive</td>\n      <td>5</td>\n      <td>4</td>\n      <td>Sport Utility</td>\n      <td>NaN</td>\n      <td>NaN</td>\n      <td>Transmission: 10-Speed Automatic -inc: sequent...</td>\n    </tr>\n    <tr>\n      <th>2</th>\n      <td>Acura</td>\n      <td>2019</td>\n      <td>45500</td>\n      <td>Small Sport Utility Vehicles 2WD</td>\n      <td>50</td>\n      <td>150</td>\n      <td>Front Wheel Drive</td>\n      <td>5</td>\n      <td>4</td>\n      <td>Sport Utility</td>\n      <td>NaN</td>\n      <td>NaN</td>\n      <td>Transmission: 10-Speed Automatic -inc: sequent...</td>\n    </tr>\n    <tr>\n      <th>3</th>\n      <td>Acura</td>\n      <td>2019</td>\n      <td>43600</td>\n      <td>Small Sport Utility Vehicles 2WD</td>\n      <td>49</td>\n      <td>150</td>\n      <td>Front Wheel Drive</td>\n      <td>5</td>\n      <td>4</td>\n      <td>Sport Utility</td>\n      <td>NaN</td>\n      <td>NaN</td>\n      <td>Transmission: 10-Speed Automatic -inc: sequent...</td>\n    </tr>\n    <tr>\n      <th>4</th>\n      <td>Acura</td>\n      <td>2019</td>\n      <td>37400</td>\n      <td>Small Sport Utility Vehicles 2WD</td>\n      <td>50</td>\n      <td>150</td>\n      <td>Front Wheel Drive</td>\n      <td>5</td>\n      <td>4</td>\n      <td>Sport Utility</td>\n      <td>NaN</td>\n      <td>NaN</td>\n      <td>Transmission: 10-Speed Automatic -inc: sequent...</td>\n    </tr>\n  </tbody>\n</table>\n</div>"
     },
     "execution_count": 20,
     "metadata": {},
     "output_type": "execute_result"
    }
   ],
   "source": [
    "data.head(4)"
   ],
   "metadata": {
    "collapsed": false,
    "pycharm": {
     "name": "#%%\n"
    }
   }
  },
  {
   "cell_type": "code",
   "execution_count": 21,
   "outputs": [],
   "source": [
    "for a, b in enumerate(data['Body Style'], start=1):\n",
    "    if type(b) != str:\n",
    "        continue\n",
    "    else:\n",
    "        if 'Pickup' in b:\n",
    "            data.loc[a, 'Body Style'] = 500\n",
    "        elif 'Sport' in b:\n",
    "            data.loc[a, 'Body Style'] = 150\n",
    "        elif '2dr' in b:\n",
    "            data.loc[a, 'Body Style'] = 200\n",
    "        elif '3dr' in b:\n",
    "            data.loc[a, 'Body Style'] = 250\n",
    "        elif '4dr' in b:\n",
    "            data.loc[a, 'Body Style'] = 300\n",
    "        elif 'van' in b or 'Mini-van' in b:\n",
    "            data.loc[a, 'Body Style'] = 350\n",
    "        elif 'Specialty' in b:\n",
    "            data.loc[a, 'Body Style'] = 400\n",
    "        elif 'Wagon' in b:\n",
    "            data.loc[a, 'Body Style'] = 450\n",
    "        else:\n",
    "            data.loc[a, 'Body Style'] = 100"
   ],
   "metadata": {
    "collapsed": false,
    "pycharm": {
     "name": "#%%\n"
    }
   }
  },
  {
   "cell_type": "code",
   "execution_count": 22,
   "outputs": [
    {
     "data": {
      "text/plain": "0  model  year  Price                         EPA Class Gas Mileage Engine  \\\n1  Acura  2019  40600  Small Sport Utility Vehicles 2WD          50    150   \n2  Acura  2019  45500  Small Sport Utility Vehicles 2WD          50    150   \n3  Acura  2019  43600  Small Sport Utility Vehicles 2WD          49    150   \n4  Acura  2019  37400  Small Sport Utility Vehicles 2WD          50    150   \n\n0         Drivetrain Passenger Capacity Passenger Doors Body Style  \\\n1  Front Wheel Drive                  5               4        150   \n2  Front Wheel Drive                  5               4        150   \n3  Front Wheel Drive                  5               4        150   \n4  Front Wheel Drive                  5               4        150   \n\n0 Maintenance Miles/km Emissions Note  \\\n1                  NaN            NaN   \n2                  NaN            NaN   \n3                  NaN            NaN   \n4                  NaN            NaN   \n\n0                                       Transmission  \n1  Transmission: 10-Speed Automatic -inc: sequent...  \n2  Transmission: 10-Speed Automatic -inc: sequent...  \n3  Transmission: 10-Speed Automatic -inc: sequent...  \n4  Transmission: 10-Speed Automatic -inc: sequent...  ",
      "text/html": "<div>\n<style scoped>\n    .dataframe tbody tr th:only-of-type {\n        vertical-align: middle;\n    }\n\n    .dataframe tbody tr th {\n        vertical-align: top;\n    }\n\n    .dataframe thead th {\n        text-align: right;\n    }\n</style>\n<table border=\"1\" class=\"dataframe\">\n  <thead>\n    <tr style=\"text-align: right;\">\n      <th></th>\n      <th>model</th>\n      <th>year</th>\n      <th>Price</th>\n      <th>EPA Class</th>\n      <th>Gas Mileage</th>\n      <th>Engine</th>\n      <th>Drivetrain</th>\n      <th>Passenger Capacity</th>\n      <th>Passenger Doors</th>\n      <th>Body Style</th>\n      <th>Maintenance Miles/km</th>\n      <th>Emissions Note</th>\n      <th>Transmission</th>\n    </tr>\n  </thead>\n  <tbody>\n    <tr>\n      <th>1</th>\n      <td>Acura</td>\n      <td>2019</td>\n      <td>40600</td>\n      <td>Small Sport Utility Vehicles 2WD</td>\n      <td>50</td>\n      <td>150</td>\n      <td>Front Wheel Drive</td>\n      <td>5</td>\n      <td>4</td>\n      <td>150</td>\n      <td>NaN</td>\n      <td>NaN</td>\n      <td>Transmission: 10-Speed Automatic -inc: sequent...</td>\n    </tr>\n    <tr>\n      <th>2</th>\n      <td>Acura</td>\n      <td>2019</td>\n      <td>45500</td>\n      <td>Small Sport Utility Vehicles 2WD</td>\n      <td>50</td>\n      <td>150</td>\n      <td>Front Wheel Drive</td>\n      <td>5</td>\n      <td>4</td>\n      <td>150</td>\n      <td>NaN</td>\n      <td>NaN</td>\n      <td>Transmission: 10-Speed Automatic -inc: sequent...</td>\n    </tr>\n    <tr>\n      <th>3</th>\n      <td>Acura</td>\n      <td>2019</td>\n      <td>43600</td>\n      <td>Small Sport Utility Vehicles 2WD</td>\n      <td>49</td>\n      <td>150</td>\n      <td>Front Wheel Drive</td>\n      <td>5</td>\n      <td>4</td>\n      <td>150</td>\n      <td>NaN</td>\n      <td>NaN</td>\n      <td>Transmission: 10-Speed Automatic -inc: sequent...</td>\n    </tr>\n    <tr>\n      <th>4</th>\n      <td>Acura</td>\n      <td>2019</td>\n      <td>37400</td>\n      <td>Small Sport Utility Vehicles 2WD</td>\n      <td>50</td>\n      <td>150</td>\n      <td>Front Wheel Drive</td>\n      <td>5</td>\n      <td>4</td>\n      <td>150</td>\n      <td>NaN</td>\n      <td>NaN</td>\n      <td>Transmission: 10-Speed Automatic -inc: sequent...</td>\n    </tr>\n  </tbody>\n</table>\n</div>"
     },
     "execution_count": 22,
     "metadata": {},
     "output_type": "execute_result"
    }
   ],
   "source": [
    "data.head(4)"
   ],
   "metadata": {
    "collapsed": false,
    "pycharm": {
     "name": "#%%\n"
    }
   }
  },
  {
   "cell_type": "code",
   "execution_count": 23,
   "outputs": [],
   "source": [
    "for c, d in enumerate(data['Drivetrain'], start=1):\n",
    "    if type(d) != str:\n",
    "        continue\n",
    "    else:\n",
    "        if d.startswith('All') or d.startswith('4'):\n",
    "            data.loc[c,'Drivetrain'] = 100\n",
    "        elif d.startswith('Front'):\n",
    "            data.loc[c,'Drivetrain'] = 150\n",
    "        elif d.startswith('Rear'):\n",
    "            data.loc[c,'Drivetrain'] = 200\n",
    "        else:\n",
    "            data.loc[c,'Drivetrain'] = 250"
   ],
   "metadata": {
    "collapsed": false,
    "pycharm": {
     "name": "#%%\n"
    }
   }
  },
  {
   "cell_type": "code",
   "execution_count": 24,
   "outputs": [
    {
     "data": {
      "text/plain": "0  model  year  Price                         EPA Class Gas Mileage Engine  \\\n1  Acura  2019  40600  Small Sport Utility Vehicles 2WD          50    150   \n2  Acura  2019  45500  Small Sport Utility Vehicles 2WD          50    150   \n3  Acura  2019  43600  Small Sport Utility Vehicles 2WD          49    150   \n4  Acura  2019  37400  Small Sport Utility Vehicles 2WD          50    150   \n\n0 Drivetrain Passenger Capacity Passenger Doors Body Style  \\\n1        150                  5               4        150   \n2        150                  5               4        150   \n3        150                  5               4        150   \n4        150                  5               4        150   \n\n0 Maintenance Miles/km Emissions Note  \\\n1                  NaN            NaN   \n2                  NaN            NaN   \n3                  NaN            NaN   \n4                  NaN            NaN   \n\n0                                       Transmission  \n1  Transmission: 10-Speed Automatic -inc: sequent...  \n2  Transmission: 10-Speed Automatic -inc: sequent...  \n3  Transmission: 10-Speed Automatic -inc: sequent...  \n4  Transmission: 10-Speed Automatic -inc: sequent...  ",
      "text/html": "<div>\n<style scoped>\n    .dataframe tbody tr th:only-of-type {\n        vertical-align: middle;\n    }\n\n    .dataframe tbody tr th {\n        vertical-align: top;\n    }\n\n    .dataframe thead th {\n        text-align: right;\n    }\n</style>\n<table border=\"1\" class=\"dataframe\">\n  <thead>\n    <tr style=\"text-align: right;\">\n      <th></th>\n      <th>model</th>\n      <th>year</th>\n      <th>Price</th>\n      <th>EPA Class</th>\n      <th>Gas Mileage</th>\n      <th>Engine</th>\n      <th>Drivetrain</th>\n      <th>Passenger Capacity</th>\n      <th>Passenger Doors</th>\n      <th>Body Style</th>\n      <th>Maintenance Miles/km</th>\n      <th>Emissions Note</th>\n      <th>Transmission</th>\n    </tr>\n  </thead>\n  <tbody>\n    <tr>\n      <th>1</th>\n      <td>Acura</td>\n      <td>2019</td>\n      <td>40600</td>\n      <td>Small Sport Utility Vehicles 2WD</td>\n      <td>50</td>\n      <td>150</td>\n      <td>150</td>\n      <td>5</td>\n      <td>4</td>\n      <td>150</td>\n      <td>NaN</td>\n      <td>NaN</td>\n      <td>Transmission: 10-Speed Automatic -inc: sequent...</td>\n    </tr>\n    <tr>\n      <th>2</th>\n      <td>Acura</td>\n      <td>2019</td>\n      <td>45500</td>\n      <td>Small Sport Utility Vehicles 2WD</td>\n      <td>50</td>\n      <td>150</td>\n      <td>150</td>\n      <td>5</td>\n      <td>4</td>\n      <td>150</td>\n      <td>NaN</td>\n      <td>NaN</td>\n      <td>Transmission: 10-Speed Automatic -inc: sequent...</td>\n    </tr>\n    <tr>\n      <th>3</th>\n      <td>Acura</td>\n      <td>2019</td>\n      <td>43600</td>\n      <td>Small Sport Utility Vehicles 2WD</td>\n      <td>49</td>\n      <td>150</td>\n      <td>150</td>\n      <td>5</td>\n      <td>4</td>\n      <td>150</td>\n      <td>NaN</td>\n      <td>NaN</td>\n      <td>Transmission: 10-Speed Automatic -inc: sequent...</td>\n    </tr>\n    <tr>\n      <th>4</th>\n      <td>Acura</td>\n      <td>2019</td>\n      <td>37400</td>\n      <td>Small Sport Utility Vehicles 2WD</td>\n      <td>50</td>\n      <td>150</td>\n      <td>150</td>\n      <td>5</td>\n      <td>4</td>\n      <td>150</td>\n      <td>NaN</td>\n      <td>NaN</td>\n      <td>Transmission: 10-Speed Automatic -inc: sequent...</td>\n    </tr>\n  </tbody>\n</table>\n</div>"
     },
     "execution_count": 24,
     "metadata": {},
     "output_type": "execute_result"
    }
   ],
   "source": [
    "data.head(4)"
   ],
   "metadata": {
    "collapsed": false,
    "pycharm": {
     "name": "#%%\n"
    }
   }
  },
  {
   "cell_type": "code",
   "execution_count": 25,
   "outputs": [],
   "source": [
    "data['Transmission'] = data['Transmission'].astype('category').cat.codes"
   ],
   "metadata": {
    "collapsed": false,
    "pycharm": {
     "name": "#%%\n"
    }
   }
  },
  {
   "cell_type": "code",
   "execution_count": 26,
   "outputs": [],
   "source": [
    "data['EPA Class'] = data['EPA Class'].astype('category').cat.codes\n"
   ],
   "metadata": {
    "collapsed": false,
    "pycharm": {
     "name": "#%%\n"
    }
   }
  },
  {
   "cell_type": "code",
   "execution_count": 27,
   "outputs": [],
   "source": [
    "data['Maintenance Miles/km'] = data['Maintenance Miles/km'].astype('category').cat.codes"
   ],
   "metadata": {
    "collapsed": false,
    "pycharm": {
     "name": "#%%\n"
    }
   }
  },
  {
   "cell_type": "code",
   "execution_count": 28,
   "outputs": [],
   "source": [
    "data['Emissions Note'] = data['Emissions Note'].astype('category').cat.codes\n"
   ],
   "metadata": {
    "collapsed": false,
    "pycharm": {
     "name": "#%%\n"
    }
   }
  },
  {
   "cell_type": "code",
   "execution_count": 29,
   "outputs": [
    {
     "data": {
      "text/plain": "0  model  year  Price  EPA Class Gas Mileage Engine Drivetrain  \\\n1  Acura  2019  40600         67          50    150        150   \n2  Acura  2019  45500         67          50    150        150   \n3  Acura  2019  43600         67          49    150        150   \n4  Acura  2019  37400         67          50    150        150   \n\n0 Passenger Capacity Passenger Doors Body Style  Maintenance Miles/km  \\\n1                  5               4        150                    -1   \n2                  5               4        150                    -1   \n3                  5               4        150                    -1   \n4                  5               4        150                    -1   \n\n0  Emissions Note  Transmission  \n1              -1          1256  \n2              -1          1256  \n3              -1          1256  \n4              -1          1256  ",
      "text/html": "<div>\n<style scoped>\n    .dataframe tbody tr th:only-of-type {\n        vertical-align: middle;\n    }\n\n    .dataframe tbody tr th {\n        vertical-align: top;\n    }\n\n    .dataframe thead th {\n        text-align: right;\n    }\n</style>\n<table border=\"1\" class=\"dataframe\">\n  <thead>\n    <tr style=\"text-align: right;\">\n      <th></th>\n      <th>model</th>\n      <th>year</th>\n      <th>Price</th>\n      <th>EPA Class</th>\n      <th>Gas Mileage</th>\n      <th>Engine</th>\n      <th>Drivetrain</th>\n      <th>Passenger Capacity</th>\n      <th>Passenger Doors</th>\n      <th>Body Style</th>\n      <th>Maintenance Miles/km</th>\n      <th>Emissions Note</th>\n      <th>Transmission</th>\n    </tr>\n  </thead>\n  <tbody>\n    <tr>\n      <th>1</th>\n      <td>Acura</td>\n      <td>2019</td>\n      <td>40600</td>\n      <td>67</td>\n      <td>50</td>\n      <td>150</td>\n      <td>150</td>\n      <td>5</td>\n      <td>4</td>\n      <td>150</td>\n      <td>-1</td>\n      <td>-1</td>\n      <td>1256</td>\n    </tr>\n    <tr>\n      <th>2</th>\n      <td>Acura</td>\n      <td>2019</td>\n      <td>45500</td>\n      <td>67</td>\n      <td>50</td>\n      <td>150</td>\n      <td>150</td>\n      <td>5</td>\n      <td>4</td>\n      <td>150</td>\n      <td>-1</td>\n      <td>-1</td>\n      <td>1256</td>\n    </tr>\n    <tr>\n      <th>3</th>\n      <td>Acura</td>\n      <td>2019</td>\n      <td>43600</td>\n      <td>67</td>\n      <td>49</td>\n      <td>150</td>\n      <td>150</td>\n      <td>5</td>\n      <td>4</td>\n      <td>150</td>\n      <td>-1</td>\n      <td>-1</td>\n      <td>1256</td>\n    </tr>\n    <tr>\n      <th>4</th>\n      <td>Acura</td>\n      <td>2019</td>\n      <td>37400</td>\n      <td>67</td>\n      <td>50</td>\n      <td>150</td>\n      <td>150</td>\n      <td>5</td>\n      <td>4</td>\n      <td>150</td>\n      <td>-1</td>\n      <td>-1</td>\n      <td>1256</td>\n    </tr>\n  </tbody>\n</table>\n</div>"
     },
     "execution_count": 29,
     "metadata": {},
     "output_type": "execute_result"
    }
   ],
   "source": [
    "data.head(4)\n"
   ],
   "metadata": {
    "collapsed": false,
    "pycharm": {
     "name": "#%%\n"
    }
   }
  },
  {
   "cell_type": "code",
   "execution_count": 30,
   "outputs": [
    {
     "name": "stdout",
     "output_type": "stream",
     "text": [
      " the column model: False : 0\n",
      " the column Price: True : 54\n",
      " the column EPA Class: False : 0\n",
      " the column Gas Mileage: True : 6024\n",
      " the column Engine: True : 1975\n",
      " the column Drivetrain: True : 1716\n",
      " the column Passenger Capacity: False : 0\n",
      " the column Passenger Doors: False : 0\n",
      " the column Body Style: True : 1716\n",
      " the column Maintenance Miles/km: False : 0\n",
      " the column Emissions Note: False : 0\n",
      " the column Transmission: False : 0\n"
     ]
    }
   ],
   "source": [
    "for value in columns_to_keep:\n",
    "    print(f' the column {value}: {data[value].isnull().values.any()} : {data[value].isnull().sum()}')\n"
   ],
   "metadata": {
    "collapsed": false,
    "pycharm": {
     "name": "#%%\n"
    }
   }
  },
  {
   "cell_type": "code",
   "execution_count": 31,
   "outputs": [],
   "source": [
    "data.to_csv('cars_data.csv')\n"
   ],
   "metadata": {
    "collapsed": false,
    "pycharm": {
     "name": "#%%\n"
    }
   }
  }
 ],
 "metadata": {
  "kernelspec": {
   "display_name": "Python 3",
   "language": "python",
   "name": "python3"
  },
  "language_info": {
   "codemirror_mode": {
    "name": "ipython",
    "version": 2
   },
   "file_extension": ".py",
   "mimetype": "text/x-python",
   "name": "python",
   "nbconvert_exporter": "python",
   "pygments_lexer": "ipython2",
   "version": "2.7.6"
  }
 },
 "nbformat": 4,
 "nbformat_minor": 0
}