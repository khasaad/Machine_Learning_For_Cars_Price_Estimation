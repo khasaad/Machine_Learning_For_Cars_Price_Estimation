{
 "cells": [
  {
   "cell_type": "code",
   "execution_count": 1,
   "metadata": {},
   "outputs": [],
   "source": [
    "import pandas as pd\n",
    "import numpy as np\n",
    "import matplotlib.pyplot as plt"
   ]
  },
  {
   "cell_type": "code",
   "execution_count": 2,
   "outputs": [],
   "source": [
    "from sklearn.model_selection import KFold, cross_val_score\n",
    "from sklearn.model_selection import train_test_split\n",
    "\n",
    "#Random forest\n",
    "from sklearn.ensemble import RandomForestRegressor\n",
    "\n",
    "# Library for compare\n",
    "from sklearn.metrics import r2_score\n",
    "\n",
    "#Randomized search\n",
    "from sklearn.model_selection import RandomizedSearchCV\n",
    "\n",
    "#Gridsearch\n",
    "from sklearn.model_selection import GridSearchCV"
   ],
   "metadata": {
    "collapsed": false,
    "pycharm": {
     "name": "#%%\n"
    }
   }
  },
  {
   "cell_type": "code",
   "execution_count": 3,
   "outputs": [],
   "source": [
    "import warnings\n",
    "\n",
    "warnings.filterwarnings('ignore')"
   ],
   "metadata": {
    "collapsed": false,
    "pycharm": {
     "name": "#%%\n"
    }
   }
  },
  {
   "cell_type": "markdown",
   "source": [
    "## Read data file"
   ],
   "metadata": {
    "collapsed": false,
    "pycharm": {
     "name": "#%% md\n"
    }
   }
  },
  {
   "cell_type": "code",
   "execution_count": 4,
   "metadata": {},
   "outputs": [],
   "source": [
    "df = pd.read_csv('cars_data.csv')\n",
    "df = df.drop(['Unnamed: 0'], axis=1)"
   ]
  },
  {
   "cell_type": "code",
   "execution_count": 5,
   "metadata": {},
   "outputs": [],
   "source": [
    "df['model'] = df['model'].astype('category').cat.codes"
   ]
  },
  {
   "cell_type": "code",
   "execution_count": 6,
   "metadata": {},
   "outputs": [],
   "source": [
    "df.dropna(axis=0, inplace=True)\n",
    "\n",
    "#Using always reset index after pd.dropna\n",
    "df=df.reset_index()\n"
   ]
  },
  {
   "cell_type": "code",
   "execution_count": 7,
   "outputs": [
    {
     "data": {
      "text/plain": "   index  model  year    Price  EPA Class  Gas Mileage  Engine  Drivetrain  \\\n0      0      0  2019  40600.0         67         50.0   150.0       150.0   \n1      1      0  2019  45500.0         67         50.0   150.0       150.0   \n2      2      0  2019  43600.0         67         49.0   150.0       150.0   \n3      3      0  2019  37400.0         67         50.0   150.0       150.0   \n\n   Passenger Capacity  Passenger Doors  Body Style  Maintenance Miles/km  \\\n0                   5                4       150.0                    -1   \n1                   5                4       150.0                    -1   \n2                   5                4       150.0                    -1   \n3                   5                4       150.0                    -1   \n\n   Emissions Note  Transmission  \n0              -1          1256  \n1              -1          1256  \n2              -1          1256  \n3              -1          1256  ",
      "text/html": "<div>\n<style scoped>\n    .dataframe tbody tr th:only-of-type {\n        vertical-align: middle;\n    }\n\n    .dataframe tbody tr th {\n        vertical-align: top;\n    }\n\n    .dataframe thead th {\n        text-align: right;\n    }\n</style>\n<table border=\"1\" class=\"dataframe\">\n  <thead>\n    <tr style=\"text-align: right;\">\n      <th></th>\n      <th>index</th>\n      <th>model</th>\n      <th>year</th>\n      <th>Price</th>\n      <th>EPA Class</th>\n      <th>Gas Mileage</th>\n      <th>Engine</th>\n      <th>Drivetrain</th>\n      <th>Passenger Capacity</th>\n      <th>Passenger Doors</th>\n      <th>Body Style</th>\n      <th>Maintenance Miles/km</th>\n      <th>Emissions Note</th>\n      <th>Transmission</th>\n    </tr>\n  </thead>\n  <tbody>\n    <tr>\n      <th>0</th>\n      <td>0</td>\n      <td>0</td>\n      <td>2019</td>\n      <td>40600.0</td>\n      <td>67</td>\n      <td>50.0</td>\n      <td>150.0</td>\n      <td>150.0</td>\n      <td>5</td>\n      <td>4</td>\n      <td>150.0</td>\n      <td>-1</td>\n      <td>-1</td>\n      <td>1256</td>\n    </tr>\n    <tr>\n      <th>1</th>\n      <td>1</td>\n      <td>0</td>\n      <td>2019</td>\n      <td>45500.0</td>\n      <td>67</td>\n      <td>50.0</td>\n      <td>150.0</td>\n      <td>150.0</td>\n      <td>5</td>\n      <td>4</td>\n      <td>150.0</td>\n      <td>-1</td>\n      <td>-1</td>\n      <td>1256</td>\n    </tr>\n    <tr>\n      <th>2</th>\n      <td>2</td>\n      <td>0</td>\n      <td>2019</td>\n      <td>43600.0</td>\n      <td>67</td>\n      <td>49.0</td>\n      <td>150.0</td>\n      <td>150.0</td>\n      <td>5</td>\n      <td>4</td>\n      <td>150.0</td>\n      <td>-1</td>\n      <td>-1</td>\n      <td>1256</td>\n    </tr>\n    <tr>\n      <th>3</th>\n      <td>3</td>\n      <td>0</td>\n      <td>2019</td>\n      <td>37400.0</td>\n      <td>67</td>\n      <td>50.0</td>\n      <td>150.0</td>\n      <td>150.0</td>\n      <td>5</td>\n      <td>4</td>\n      <td>150.0</td>\n      <td>-1</td>\n      <td>-1</td>\n      <td>1256</td>\n    </tr>\n  </tbody>\n</table>\n</div>"
     },
     "execution_count": 7,
     "metadata": {},
     "output_type": "execute_result"
    }
   ],
   "source": [
    "df.head(4)"
   ],
   "metadata": {
    "collapsed": false,
    "pycharm": {
     "name": "#%%\n"
    }
   }
  },
  {
   "cell_type": "markdown",
   "source": [
    "## Details of data"
   ],
   "metadata": {
    "collapsed": false,
    "pycharm": {
     "name": "#%% md\n"
    }
   }
  },
  {
   "cell_type": "code",
   "execution_count": 8,
   "outputs": [],
   "source": [
    "# df.info()"
   ],
   "metadata": {
    "collapsed": false,
    "pycharm": {
     "name": "#%%\n"
    }
   }
  },
  {
   "cell_type": "code",
   "execution_count": 9,
   "metadata": {},
   "outputs": [],
   "source": [
    "df=df.drop('index', axis=1)"
   ]
  },
  {
   "cell_type": "code",
   "execution_count": 10,
   "metadata": {},
   "outputs": [
    {
     "name": "stdout",
     "output_type": "stream",
     "text": [
      "<class 'pandas.core.frame.DataFrame'>\n",
      "RangeIndex: 26268 entries, 0 to 26267\n",
      "Data columns (total 13 columns):\n",
      " #   Column                Non-Null Count  Dtype  \n",
      "---  ------                --------------  -----  \n",
      " 0   model                 26268 non-null  int8   \n",
      " 1   year                  26268 non-null  int64  \n",
      " 2   Price                 26268 non-null  float64\n",
      " 3   EPA Class             26268 non-null  int64  \n",
      " 4   Gas Mileage           26268 non-null  float64\n",
      " 5   Engine                26268 non-null  float64\n",
      " 6   Drivetrain            26268 non-null  float64\n",
      " 7   Passenger Capacity    26268 non-null  int64  \n",
      " 8   Passenger Doors       26268 non-null  int64  \n",
      " 9   Body Style            26268 non-null  float64\n",
      " 10  Maintenance Miles/km  26268 non-null  int64  \n",
      " 11  Emissions Note        26268 non-null  int64  \n",
      " 12  Transmission          26268 non-null  int64  \n",
      "dtypes: float64(5), int64(7), int8(1)\n",
      "memory usage: 2.4 MB\n"
     ]
    }
   ],
   "source": [
    "df.info()"
   ]
  },
  {
   "cell_type": "code",
   "execution_count": 11,
   "metadata": {},
   "outputs": [],
   "source": [
    "X = df.copy(deep=True)\n",
    "y = df.Price"
   ]
  },
  {
   "cell_type": "code",
   "execution_count": 12,
   "metadata": {},
   "outputs": [],
   "source": [
    "X=X.drop('Price', axis=1)"
   ]
  },
  {
   "cell_type": "code",
   "execution_count": 13,
   "metadata": {},
   "outputs": [],
   "source": [
    "#on tranforme y en array pour travailler avec le modele de ML\n",
    "y=pd.DataFrame(y)"
   ]
  },
  {
   "cell_type": "markdown",
   "source": [
    "## Machine Learning"
   ],
   "metadata": {
    "collapsed": false,
    "pycharm": {
     "name": "#%% md\n"
    }
   }
  },
  {
   "cell_type": "code",
   "execution_count": 14,
   "metadata": {},
   "outputs": [],
   "source": [
    "#Train split test\n",
    "X_train, X_test, y_train, y_test = train_test_split(X, y, test_size = 0.2, random_state = 1)"
   ]
  },
  {
   "cell_type": "markdown",
   "source": [
    "##  Random Forest Regressor"
   ],
   "metadata": {
    "collapsed": false,
    "pycharm": {
     "name": "#%% md\n"
    }
   }
  },
  {
   "cell_type": "markdown",
   "source": [
    "#### Parameters"
   ],
   "metadata": {
    "collapsed": false,
    "pycharm": {
     "name": "#%% md\n"
    }
   }
  },
  {
   "cell_type": "code",
   "execution_count": 16,
   "outputs": [],
   "source": [
    "rf = RandomForestRegressor()\n",
    "\n",
    "#parameters for randomized search and grid search\n",
    "n_estimators = [int(x) for x in np.linspace(start=100, stop=200, num=10)]\n",
    "max_features = [None, 'auto', 'sqrt']\n",
    "max_depth = [14, 18]\n",
    "min_samples_split = [2, 3, 4]\n",
    "min_samples_leaf = [1, 2]\n",
    "bootstrap = [True, False]\n",
    "\n",
    "param_grid = {'n_estimators': n_estimators,\n",
    "'max_features': max_features,\n",
    "'max_depth': max_depth,\n",
    "'min_samples_split': min_samples_split,\n",
    "'min_samples_leaf': min_samples_leaf,\n",
    "'bootstrap': bootstrap}"
   ],
   "metadata": {
    "collapsed": false,
    "pycharm": {
     "name": "#%%\n"
    }
   }
  },
  {
   "cell_type": "code",
   "execution_count": 17,
   "outputs": [
    {
     "name": "stdout",
     "output_type": "stream",
     "text": [
      "{'n_estimators': [100, 111, 122, 133, 144, 155, 166, 177, 188, 200], 'max_features': [None, 'auto', 'sqrt'], 'max_depth': [14, 18], 'min_samples_split': [2, 3, 4], 'min_samples_leaf': [1, 2], 'bootstrap': [True, False]}\n"
     ]
    }
   ],
   "source": [
    "print(param_grid)"
   ],
   "metadata": {
    "collapsed": false,
    "pycharm": {
     "name": "#%%\n"
    }
   }
  },
  {
   "cell_type": "markdown",
   "source": [
    "## Randomized Search CV"
   ],
   "metadata": {
    "collapsed": false,
    "pycharm": {
     "name": "#%% md\n"
    }
   }
  },
  {
   "cell_type": "code",
   "execution_count": 18,
   "metadata": {},
   "outputs": [
    {
     "name": "stdout",
     "output_type": "stream",
     "text": [
      "Fitting 5 folds for each of 10 candidates, totalling 50 fits\n",
      "The best parameters  : {'n_estimators': 188, 'min_samples_split': 3, 'min_samples_leaf': 1, 'max_features': 'sqrt', 'max_depth': 18, 'bootstrap': False}\n",
      "r2 score test : 0.9635002634366892\n",
      "r2 score train : 0.990595627915352\n"
     ]
    }
   ],
   "source": [
    "rds = RandomizedSearchCV(estimator=rf, param_distributions=param_grid, verbose=3,\n",
    "n_jobs=-1, return_train_score=True, scoring=\"r2\")\n",
    "\n",
    "#values.ravel is used to arrange the array\n",
    "# rds will substitute rf in the fit\n",
    "rds.fit(X_train, y_train.values.ravel())\n",
    "\n",
    "print(\"The best parameters  :\", rds.best_params_)\n",
    "\n",
    "# It is to recover the best algorithm found by randomized search\n",
    "model = rds.best_estimator_\n",
    "\n",
    "model.fit(X_train, y_train.values.ravel())\n",
    "\n",
    "predict_price_test=rds.predict(X_test)\n",
    "predict_price_train=rds.predict(X_train)\n",
    "\n",
    "#Compare y_test(reals values) against predicted price values on X_test\n",
    "print(\"r2 score test :\", r2_score(y_test, predict_price_test))\n",
    "\n",
    "#the big difference between the R2 test and train, that means we over fit the model\n",
    "print(\"r2 score train :\", r2_score(y_train, predict_price_train))\n"
   ]
  },
  {
   "cell_type": "markdown",
   "source": [
    "## Grid Search CV"
   ],
   "metadata": {
    "collapsed": false,
    "pycharm": {
     "name": "#%% md\n"
    }
   }
  },
  {
   "cell_type": "code",
   "execution_count": 19,
   "outputs": [],
   "source": [
    "gs = GridSearchCV(estimator=rf, param_grid=param_grid, verbose=3,\n",
    "n_jobs=2, return_train_score=True, scoring=\"r2\")\n",
    "\n",
    "gs.fit(X_train, y_train.values.ravel())\n",
    "\n",
    "print(\"The best parameters :\", gs.best_params_)\n",
    "\n",
    "model = gs.best_estimator_\n",
    "\n",
    "model.fit(X_train, y_train.values.ravel())\n",
    "\n",
    "predict_price_test=gs.predict(X_test)\n",
    "predict_price_train=gs.predict(X_train)\n",
    "\n",
    "print(\"r2 score test :\", r2_score(y_test, predict_price_test))\n",
    "print(\"r2 score train :\", r2_score(y_train, predict_price_train))"
   ],
   "metadata": {
    "collapsed": false,
    "pycharm": {
     "name": "#%%\n"
    }
   }
  },
  {
   "cell_type": "markdown",
   "metadata": {
    "pycharm": {
     "name": "#%% md\n"
    }
   },
   "source": [
    "## K Fold"
   ]
  },
  {
   "cell_type": "code",
   "execution_count": 20,
   "metadata": {},
   "outputs": [
    {
     "name": "stdout",
     "output_type": "stream",
     "text": [
      "n_estimators : [100, 111, 122, 133, 144, 155, 166, 177, 188, 200]\n"
     ]
    }
   ],
   "source": [
    "\n",
    "# Split the data into 5 folds.\n",
    "# We will use this 'kf'(KFold splitting strategy) object as input to cross_val_score() method\n",
    "kf =KFold(n_splits=5, shuffle=True, random_state=42)\n",
    "\n",
    "rf = RandomForestRegressor()\n",
    "\n",
    "n_estimators = [int(x) for x in np.linspace(start=100, stop=200, num=10)]\n",
    "print(\"n_estimators :\", n_estimators)\n",
    "max_features = [None, 'auto', 'sqrt']\n",
    "max_depth = [10, 14, 18]\n",
    "min_samples_split = [2, 3, 4]\n",
    "min_samples_leaf = [1, 2]\n",
    "bootstrap = [True, False]\n",
    "\n",
    "param_grid = {'n_estimators': n_estimators,\n",
    "'max_features': max_features,\n",
    "'max_depth': max_depth,\n",
    "'min_samples_split': min_samples_split,\n",
    "'min_samples_leaf': min_samples_leaf,\n",
    "'bootstrap': bootstrap}"
   ]
  },
  {
   "cell_type": "markdown",
   "source": [
    "## Randomized Search CV (kFold)"
   ],
   "metadata": {
    "collapsed": false,
    "pycharm": {
     "name": "#%% md\n"
    }
   }
  },
  {
   "cell_type": "code",
   "execution_count": 21,
   "outputs": [
    {
     "name": "stdout",
     "output_type": "stream",
     "text": [
      "Fitting 5 folds for each of 10 candidates, totalling 50 fits\n",
      "The best parameters : {'n_estimators': 166, 'min_samples_split': 3, 'min_samples_leaf': 1, 'max_features': 'sqrt', 'max_depth': 18, 'bootstrap': True}\n",
      "r2 score test : 0.9587936018277113\n",
      "r2 score train : 0.9843813631308301\n",
      "\n",
      "\n",
      "Kfold score mean : 93.6180174277052\n",
      "Kfold std deviation : 1.2996742902511158\n",
      "Kfold accuracy for each kfold : [0.94004127 0.93730947 0.91119167 0.94759439 0.94476407]\n",
      "Kfold variance : 0.00016891532607397417\n"
     ]
    }
   ],
   "source": [
    "rsf = RandomizedSearchCV(estimator=rf, param_distributions=param_grid, verbose=3,\n",
    "n_jobs=-1, return_train_score=True, scoring=\"r2\", cv=kf)\n",
    "\n",
    "rsf.fit(X_train, y_train.values.ravel())\n",
    "\n",
    "print(\"The best parameters :\", rsf.best_params_)\n",
    "\n",
    "model = rsf.best_estimator_\n",
    "\n",
    "model.fit(X_train, y_train.values.ravel())\n",
    "\n",
    "predict_price_test=rsf.predict(X_test)\n",
    "predict_price_train=rsf.predict(X_train)\n",
    "\n",
    "print(\"r2 score test :\", r2_score(y_test, predict_price_test))\n",
    "\n",
    "print(\"r2 score train :\", r2_score(y_train, predict_price_train))\n",
    "\n",
    "print('\\n')\n",
    "\n",
    "score = cross_val_score(model, X_train, y_train.values.ravel(), cv=kf, scoring=\"r2\")\n",
    "print(\"Kfold score mean :\", score.mean() * 100.0)\n",
    "print(\"Kfold std deviation :\", score.std() * 100.0)\n",
    "print(\"Kfold accuracy for each kfold :\", score)\n",
    "print(\"Kfold variance :\", score.var())"
   ],
   "metadata": {
    "collapsed": false,
    "pycharm": {
     "name": "#%%\n"
    }
   }
  },
  {
   "cell_type": "markdown",
   "source": [
    "## Grid Search CV (KFold)"
   ],
   "metadata": {
    "collapsed": false,
    "pycharm": {
     "name": "#%% md\n"
    }
   }
  },
  {
   "cell_type": "code",
   "execution_count": 22,
   "outputs": [],
   "source": [
    "\n",
    "gsf = GridSearchCV(estimator=rf, param_grid=param_grid, verbose=3,\n",
    "n_jobs=2, return_train_score=True, scoring=\"r2\")\n",
    "\n",
    "gsf.fit(X_train, y_train.values.ravel())\n",
    "\n",
    "print(\"The best parameters :\", gsf.best_params_)\n",
    "\n",
    "model = gsf.best_estimator_\n",
    "\n",
    "model.fit(X_train, y_train.values.ravel())\n",
    "\n",
    "predict_price_test=gsf.predict(X_test)\n",
    "predict_price_train=gsf.predict(X_train)\n",
    "\n",
    "print(\"r2 score test :\", r2_score(y_test, predict_price_test))\n",
    "\n",
    "print(\"r2 score train :\", r2_score(y_train, predict_price_train))\n",
    "\n",
    "print('\\n')\n",
    "\n",
    "score = cross_val_score(model, X_train, y_train.values.ravel(), cv=kf, scoring=\"r2\")\n",
    "print(\"Kfold score mean :\", score.mean() * 100.0)\n",
    "print(\"Kfold std deviation :\", score.std() * 100.0)\n",
    "print(\"Kfold accuracy for each kfold :\", score)\n",
    "print(\"Kfold variance :\", score.var())"
   ],
   "metadata": {
    "collapsed": false,
    "pycharm": {
     "name": "#%%\n"
    }
   }
  },
  {
   "cell_type": "code",
   "execution_count": 22,
   "outputs": [],
   "source": [],
   "metadata": {
    "collapsed": false,
    "pycharm": {
     "name": "#%%\n"
    }
   }
  },
  {
   "cell_type": "markdown",
   "source": [
    "## Show the Feature Importance"
   ],
   "metadata": {
    "collapsed": false,
    "pycharm": {
     "name": "#%% md\n"
    }
   }
  },
  {
   "cell_type": "code",
   "execution_count": 23,
   "metadata": {
    "pycharm": {
     "name": "#%%\n"
    }
   },
   "outputs": [
    {
     "data": {
      "text/plain": "Text(0.5, 0, 'Relative Importance')"
     },
     "execution_count": 23,
     "metadata": {},
     "output_type": "execute_result"
    },
    {
     "data": {
      "text/plain": "<Figure size 432x288 with 1 Axes>",
      "image/png": "[encoded data removed]"
     },
     "metadata": {
      "needs_background": "light"
     },
     "output_type": "display_data"
    }
   ],
   "source": [
    "list_variables=list(X.columns)\n",
    "importance = model.feature_importances_ # info given by random forest\n",
    "indices = np.argsort(importance)\n",
    "plt.style.use('fivethirtyeight')\n",
    "%matplotlib inline\n",
    "plt.figure(1)\n",
    "plt.title('Feature Importance')\n",
    "plt.barh(range(len(indices)), importance[indices], color='b', align='center')\n",
    "plt.yticks(range(len(indices)), [list_variables[i] for i in indices])\n",
    "plt.xlabel('Relative Importance')\n"
   ]
  }
 ],
 "metadata": {
  "kernelspec": {
   "display_name": "Python 3",
   "language": "python",
   "name": "python3"
  },
  "language_info": {
   "codemirror_mode": {
    "name": "ipython",
    "version": 3
   },
   "file_extension": ".py",
   "mimetype": "text/x-python",
   "name": "python",
   "nbconvert_exporter": "python",
   "pygments_lexer": "ipython3",
   "version": "3.8.5"
  }
 },
 "nbformat": 4,
 "nbformat_minor": 4
}